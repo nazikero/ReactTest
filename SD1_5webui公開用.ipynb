{
  "nbformat": 4,
  "nbformat_minor": 0,
  "metadata": {
    "colab": {
      "provenance": [],
      "include_colab_link": true
    },
    "kernelspec": {
      "name": "python3",
      "display_name": "Python 3"
    },
    "language_info": {
      "name": "python"
    },
    "gpuClass": "standard",
    "accelerator": "GPU"
  },
  "cells": [
    {
      "cell_type": "markdown",
      "metadata": {
        "id": "view-in-github",
        "colab_type": "text"
      },
      "source": [
        "<a href=\"https://colab.research.google.com/github/nazikero/ReactTest/blob/master/SD1_5webui%E5%85%AC%E9%96%8B%E7%94%A8.ipynb\" target=\"_parent\"><img src=\"https://colab.research.google.com/assets/colab-badge.svg\" alt=\"Open In Colab\"/></a>"
      ]
    },
    {
      "cell_type": "markdown",
      "source": [
        "# セル（薄い灰色の四角いボックス）にマウスを重ねると\n",
        "## 左に再生ボタンが出るので\n",
        "# 上から順番に<font color= \"red\">**全てのセルを**<font color= \"black\">実行して下さい"
      ],
      "metadata": {
        "id": "Cbr7Oyt_PjHF"
      }
    },
    {
      "cell_type": "markdown",
      "source": [
        "**セルを選択した状態で、上のメニューからランタイム＞以降のセルを実行をクリックすると、**\n",
        "\n",
        "**以降の全てのセルが実行されます。便利なので慣れてきたら是非使ってみて下さい！**"
      ],
      "metadata": {
        "id": "BIwGXEVhstyI"
      }
    },
    {
      "cell_type": "code",
      "source": [],
      "metadata": {
        "id": "RLjOA6CrJkKY"
      },
      "execution_count": null,
      "outputs": []
    },
    {
      "cell_type": "code",
      "source": [
        "#自分のGoogle Driveをマウント(Colabが自分のGoogle Driveのファイルにアクセスできるようにする)\n",
        "#実行して少し待つとGoogleアカウントの認証画面に飛ぶので、アカウントを選択したのちに下にスクロールして許可をクリック\n",
        "from google.colab import drive\n",
        "drive.mount('/content/drive')"
      ],
      "metadata": {
        "id": "ac_0g20hpzjZ",
        "colab": {
          "base_uri": "https://localhost:8080/"
        },
        "outputId": "39b762d8-b522-45eb-8d6f-3f3509c8f4cc"
      },
      "execution_count": 1,
      "outputs": [
        {
          "output_type": "stream",
          "name": "stdout",
          "text": [
            "Mounted at /content/drive\n"
          ]
        }
      ]
    },
    {
      "cell_type": "code",
      "source": [
        "#エラーが起きたときにいい感じにしてくれるやつ\n",
        "!curl -Lo memfix.zip https://github.com/nolanaatama/sd-webui/raw/main/memfix.zip\n",
        "!unzip /content/memfix.zip\n",
        "!apt install -qq libunwind8-dev\n",
        "!dpkg -i *.deb\n",
        "%env LD_PRELOAD=libtcmalloc.so\n",
        "!rm *"
      ],
      "metadata": {
        "id": "afKo3lUGnYJ0",
        "colab": {
          "base_uri": "https://localhost:8080/"
        },
        "outputId": "d00a0de2-67ba-4c5d-9222-b5db0c3edfee"
      },
      "execution_count": 2,
      "outputs": [
        {
          "output_type": "stream",
          "name": "stdout",
          "text": [
            "  % Total    % Received % Xferd  Average Speed   Time    Time     Time  Current\n",
            "                                 Dload  Upload   Total   Spent    Left  Speed\n",
            "  0     0    0     0    0     0      0      0 --:--:-- --:--:-- --:--:--     0\n",
            "100  761k  100  761k    0     0  1774k      0 --:--:-- --:--:-- --:--:-- 1774k\n",
            "Archive:  /content/memfix.zip\n",
            "  inflating: google-perftools_2.5-2.2ubuntu3_all.deb  \n",
            "  inflating: libtcmalloc-minimal4_2.5-2.2ubuntu3_amd64.deb  \n",
            "  inflating: libgoogle-perftools4_2.5-2.2ubuntu3_amd64.deb  \n",
            "  inflating: libgoogle-perftools-dev_2.5-2.2ubuntu3_amd64.deb  \n",
            "The following NEW packages will be installed:\n",
            "  libunwind-dev\n",
            "0 upgraded, 1 newly installed, 0 to remove and 24 not upgraded.\n",
            "Need to get 472 kB of archives.\n",
            "After this operation, 4,164 kB of additional disk space will be used.\n",
            "Selecting previously unselected package libunwind-dev:amd64.\n",
            "(Reading database ... 122518 files and directories currently installed.)\n",
            "Preparing to unpack .../libunwind-dev_1.2.1-9ubuntu0.1_amd64.deb ...\n",
            "Unpacking libunwind-dev:amd64 (1.2.1-9ubuntu0.1) ...\n",
            "Setting up libunwind-dev:amd64 (1.2.1-9ubuntu0.1) ...\n",
            "Processing triggers for man-db (2.9.1-1) ...\n",
            "\u001b[1mdpkg:\u001b[0m \u001b[1;33mwarning:\u001b[0m downgrading google-perftools from 2.7-1ubuntu2 to 2.5-2.2ubuntu3\n",
            "(Reading database ... 122571 files and directories currently installed.)\n",
            "Preparing to unpack google-perftools_2.5-2.2ubuntu3_all.deb ...\n",
            "Unpacking google-perftools (2.5-2.2ubuntu3) over (2.7-1ubuntu2) ...\n",
            "\u001b[1mdpkg:\u001b[0m \u001b[1;33mwarning:\u001b[0m downgrading libgoogle-perftools4:amd64 from 2.7-1ubuntu2 to 2.5-2.2ubuntu3\n",
            "Preparing to unpack libgoogle-perftools4_2.5-2.2ubuntu3_amd64.deb ...\n",
            "Unpacking libgoogle-perftools4 (2.5-2.2ubuntu3) over (2.7-1ubuntu2) ...\n",
            "Selecting previously unselected package libgoogle-perftools-dev.\n",
            "Preparing to unpack libgoogle-perftools-dev_2.5-2.2ubuntu3_amd64.deb ...\n",
            "Unpacking libgoogle-perftools-dev (2.5-2.2ubuntu3) ...\n",
            "\u001b[1mdpkg:\u001b[0m \u001b[1;33mwarning:\u001b[0m downgrading libtcmalloc-minimal4:amd64 from 2.7-1ubuntu2 to 2.5-2.2ubuntu3\n",
            "Preparing to unpack libtcmalloc-minimal4_2.5-2.2ubuntu3_amd64.deb ...\n",
            "Unpacking libtcmalloc-minimal4 (2.5-2.2ubuntu3) over (2.7-1ubuntu2) ...\n",
            "Setting up libtcmalloc-minimal4 (2.5-2.2ubuntu3) ...\n",
            "Setting up libgoogle-perftools4 (2.5-2.2ubuntu3) ...\n",
            "Setting up libgoogle-perftools-dev (2.5-2.2ubuntu3) ...\n",
            "Setting up google-perftools (2.5-2.2ubuntu3) ...\n",
            "Processing triggers for man-db (2.9.1-1) ...\n",
            "Processing triggers for libc-bin (2.31-0ubuntu9.9) ...\n",
            "env: LD_PRELOAD=libtcmalloc.so\n",
            "rm: cannot remove 'drive': Is a directory\n",
            "rm: cannot remove 'sample_data': Is a directory\n"
          ]
        }
      ]
    },
    {
      "cell_type": "code",
      "source": [
        "#torch（Pythonの機能の一つ）のアップグレード。xformersより早いSPDAが出たので使えるように。\n",
        "!pip uninstall -y torch torchvision torchtext torchaudio fastai\n",
        "!pip install torch==2.0.0 torchvision==0.15.1 torchtext==0.15.1 torchaudio==2.0.1 -i https://download.pytorch.org/whl/cu118\n",
        "!pip install --upgrade fastapi==0.90.1"
      ],
      "metadata": {
        "id": "-kFEODLRdoZu",
        "colab": {
          "base_uri": "https://localhost:8080/"
        },
        "outputId": "40100cb7-7da2-45eb-a91b-3655fcbca3bd"
      },
      "execution_count": 3,
      "outputs": [
        {
          "output_type": "stream",
          "name": "stdout",
          "text": [
            "Found existing installation: torch 2.0.0+cu118\n",
            "Uninstalling torch-2.0.0+cu118:\n",
            "  Successfully uninstalled torch-2.0.0+cu118\n",
            "Found existing installation: torchvision 0.15.1+cu118\n",
            "Uninstalling torchvision-0.15.1+cu118:\n",
            "  Successfully uninstalled torchvision-0.15.1+cu118\n",
            "Found existing installation: torchtext 0.15.1\n",
            "Uninstalling torchtext-0.15.1:\n",
            "  Successfully uninstalled torchtext-0.15.1\n",
            "Found existing installation: torchaudio 2.0.1+cu118\n",
            "Uninstalling torchaudio-2.0.1+cu118:\n",
            "  Successfully uninstalled torchaudio-2.0.1+cu118\n",
            "Found existing installation: fastai 2.7.12\n",
            "Uninstalling fastai-2.7.12:\n",
            "  Successfully uninstalled fastai-2.7.12\n",
            "Looking in indexes: https://download.pytorch.org/whl/cu118, https://us-python.pkg.dev/colab-wheels/public/simple/\n",
            "Collecting torch==2.0.0\n",
            "  Downloading https://download.pytorch.org/whl/cu118/torch-2.0.0%2Bcu118-cp310-cp310-linux_x86_64.whl (2267.3 MB)\n",
            "\u001b[2K     \u001b[91m━━━━━━━━━━━━━━━━━━━━━━━━━━━━━━━━━━━━━━━\u001b[0m\u001b[91m╸\u001b[0m \u001b[32m2.3/2.3 GB\u001b[0m \u001b[31m158.4 MB/s\u001b[0m eta \u001b[36m0:00:01\u001b[0mtcmalloc: large alloc 2267275264 bytes == 0x2e82000 @  0x7fb33aeb51e7 0x5f2671 0x62913a 0x68559c 0x565d58 0x565def 0x53f76e 0x5a9c15 0x629910 0x5a9c15 0x629910 0x5a9c15 0x629910 0x5a9c15 0x629910 0x5a9c15 0x629910 0x5a9c15 0x629910 0x5a9c15 0x629910 0x5aa8c5 0x629910 0x5a9c15 0x629910 0x5a9c15 0x5a87e1 0x548a9a 0x539689 0x6a4fa6 0x5ae1f3\n",
            "\u001b[2K     \u001b[91m━━━━━━━━━━━━━━━━━━━━━━━━━━━━━━━━━━━━━━━\u001b[0m\u001b[91m╸\u001b[0m \u001b[32m2.3/2.3 GB\u001b[0m \u001b[31m156.1 MB/s\u001b[0m eta \u001b[36m0:00:01\u001b[0mtcmalloc: large alloc 2834096128 bytes == 0x8a0c0000 @  0x7fb33aeb6615 0x628ff9 0x68559c 0x565d58 0x565def 0x53f76e 0x5a9c15 0x629910 0x5a9c15 0x629910 0x5a9c15 0x629910 0x5a9c15 0x629910 0x5a9c15 0x629910 0x5a9c15 0x629910 0x5a9c15 0x629910 0x5aa8c5 0x629910 0x5a9c15 0x629910 0x5a9c15 0x5a87e1 0x548a9a 0x539689 0x6a4fa6 0x5ae1f3 0x54863a\n",
            "\u001b[2K     \u001b[91m━━━━━━━━━━━━━━━━━━━━━━━━━━━━━━━━━━━━━━━\u001b[0m\u001b[91m╸\u001b[0m \u001b[32m2.3/2.3 GB\u001b[0m \u001b[31m156.1 MB/s\u001b[0m eta \u001b[36m0:00:01\u001b[0mtcmalloc: large alloc 2267275264 bytes == 0x2e82000 @  0x7fb33aeb51e7 0x62ee1b 0x62dbe0 0x53f76e 0x5a9c15 0x629910 0x5a9c15 0x629910 0x5a9c15 0x5a87e1 0x548a9a 0x539689 0x6a4fa6 0x5ae1f3 0x54863a 0x5ae1f3 0x54863a 0x5ae1f3 0x629910 0x5a9c15 0x54863a 0x5aa8c5 0x53e65a 0x5a9efb 0x53e65a 0x5a9efb 0x53e65a 0x5a9efb 0x629910 0x62c449 0x62c57a\n",
            "\u001b[2K     \u001b[90m━━━━━━━━━━━━━━━━━━━━━━━━━━━━━━━━━━━━━━━━\u001b[0m \u001b[32m2.3/2.3 GB\u001b[0m \u001b[31m704.0 kB/s\u001b[0m eta \u001b[36m0:00:00\u001b[0m\n",
            "\u001b[?25hCollecting torchvision==0.15.1\n",
            "  Downloading https://download.pytorch.org/whl/cu118/torchvision-0.15.1%2Bcu118-cp310-cp310-linux_x86_64.whl (6.1 MB)\n",
            "\u001b[2K     \u001b[90m━━━━━━━━━━━━━━━━━━━━━━━━━━━━━━━━━━━━━━━━\u001b[0m \u001b[32m6.1/6.1 MB\u001b[0m \u001b[31m57.4 MB/s\u001b[0m eta \u001b[36m0:00:00\u001b[0m\n",
            "\u001b[?25hCollecting torchtext==0.15.1\n",
            "  Downloading https://download.pytorch.org/whl/torchtext-0.15.1%2Bcpu-cp310-cp310-linux_x86_64.whl (2.0 MB)\n",
            "\u001b[2K     \u001b[90m━━━━━━━━━━━━━━━━━━━━━━━━━━━━━━━━━━━━━━━━\u001b[0m \u001b[32m2.0/2.0 MB\u001b[0m \u001b[31m29.9 MB/s\u001b[0m eta \u001b[36m0:00:00\u001b[0m\n",
            "\u001b[?25hCollecting torchaudio==2.0.1\n",
            "  Downloading https://download.pytorch.org/whl/cu118/torchaudio-2.0.1%2Bcu118-cp310-cp310-linux_x86_64.whl (4.4 MB)\n",
            "\u001b[2K     \u001b[90m━━━━━━━━━━━━━━━━━━━━━━━━━━━━━━━━━━━━━━━━\u001b[0m \u001b[32m4.4/4.4 MB\u001b[0m \u001b[31m47.1 MB/s\u001b[0m eta \u001b[36m0:00:00\u001b[0m\n",
            "\u001b[?25hRequirement already satisfied: filelock in /usr/local/lib/python3.10/dist-packages (from torch==2.0.0) (3.12.0)\n",
            "Requirement already satisfied: typing-extensions in /usr/local/lib/python3.10/dist-packages (from torch==2.0.0) (4.5.0)\n",
            "Requirement already satisfied: sympy in /usr/local/lib/python3.10/dist-packages (from torch==2.0.0) (1.11.1)\n",
            "Requirement already satisfied: networkx in /usr/local/lib/python3.10/dist-packages (from torch==2.0.0) (3.1)\n",
            "Requirement already satisfied: jinja2 in /usr/local/lib/python3.10/dist-packages (from torch==2.0.0) (3.1.2)\n",
            "Requirement already satisfied: triton==2.0.0 in /usr/local/lib/python3.10/dist-packages (from torch==2.0.0) (2.0.0)\n",
            "Requirement already satisfied: numpy in /usr/local/lib/python3.10/dist-packages (from torchvision==0.15.1) (1.22.4)\n",
            "Requirement already satisfied: requests in /usr/local/lib/python3.10/dist-packages (from torchvision==0.15.1) (2.27.1)\n",
            "Requirement already satisfied: pillow!=8.3.*,>=5.3.0 in /usr/local/lib/python3.10/dist-packages (from torchvision==0.15.1) (8.4.0)\n",
            "Requirement already satisfied: tqdm in /usr/local/lib/python3.10/dist-packages (from torchtext==0.15.1) (4.65.0)\n",
            "Requirement already satisfied: torchdata==0.6.0 in /usr/local/lib/python3.10/dist-packages (from torchtext==0.15.1) (0.6.0)\n",
            "Requirement already satisfied: urllib3>=1.25 in /usr/local/lib/python3.10/dist-packages (from torchdata==0.6.0->torchtext==0.15.1) (1.26.15)\n",
            "Requirement already satisfied: cmake in /usr/local/lib/python3.10/dist-packages (from triton==2.0.0->torch==2.0.0) (3.25.2)\n",
            "Requirement already satisfied: lit in /usr/local/lib/python3.10/dist-packages (from triton==2.0.0->torch==2.0.0) (16.0.2)\n",
            "Requirement already satisfied: MarkupSafe>=2.0 in /usr/local/lib/python3.10/dist-packages (from jinja2->torch==2.0.0) (2.1.2)\n",
            "Requirement already satisfied: certifi>=2017.4.17 in /usr/local/lib/python3.10/dist-packages (from requests->torchvision==0.15.1) (2022.12.7)\n",
            "Requirement already satisfied: charset-normalizer~=2.0.0 in /usr/local/lib/python3.10/dist-packages (from requests->torchvision==0.15.1) (2.0.12)\n",
            "Requirement already satisfied: idna<4,>=2.5 in /usr/local/lib/python3.10/dist-packages (from requests->torchvision==0.15.1) (3.4)\n",
            "Requirement already satisfied: mpmath>=0.19 in /usr/local/lib/python3.10/dist-packages (from sympy->torch==2.0.0) (1.3.0)\n",
            "Installing collected packages: torch, torchvision, torchtext, torchaudio\n",
            "Successfully installed torch-2.0.0+cu118 torchaudio-2.0.1+cu118 torchtext-0.15.1+cpu torchvision-0.15.1+cu118\n",
            "Looking in indexes: https://pypi.org/simple, https://us-python.pkg.dev/colab-wheels/public/simple/\n",
            "Collecting fastapi==0.90.1\n",
            "  Downloading fastapi-0.90.1-py3-none-any.whl (56 kB)\n",
            "\u001b[2K     \u001b[90m━━━━━━━━━━━━━━━━━━━━━━━━━━━━━━━━━━━━━━━━\u001b[0m \u001b[32m56.2/56.2 kB\u001b[0m \u001b[31m3.3 MB/s\u001b[0m eta \u001b[36m0:00:00\u001b[0m\n",
            "\u001b[?25hRequirement already satisfied: pydantic!=1.7,!=1.7.1,!=1.7.2,!=1.7.3,!=1.8,!=1.8.1,<2.0.0,>=1.6.2 in /usr/local/lib/python3.10/dist-packages (from fastapi==0.90.1) (1.10.7)\n",
            "Collecting starlette<0.24.0,>=0.22.0 (from fastapi==0.90.1)\n",
            "  Downloading starlette-0.23.1-py3-none-any.whl (64 kB)\n",
            "\u001b[2K     \u001b[90m━━━━━━━━━━━━━━━━━━━━━━━━━━━━━━━━━━━━━━━━\u001b[0m \u001b[32m64.5/64.5 kB\u001b[0m \u001b[31m9.0 MB/s\u001b[0m eta \u001b[36m0:00:00\u001b[0m\n",
            "\u001b[?25hRequirement already satisfied: typing-extensions>=4.2.0 in /usr/local/lib/python3.10/dist-packages (from pydantic!=1.7,!=1.7.1,!=1.7.2,!=1.7.3,!=1.8,!=1.8.1,<2.0.0,>=1.6.2->fastapi==0.90.1) (4.5.0)\n",
            "Requirement already satisfied: anyio<5,>=3.4.0 in /usr/local/lib/python3.10/dist-packages (from starlette<0.24.0,>=0.22.0->fastapi==0.90.1) (3.6.2)\n",
            "Requirement already satisfied: idna>=2.8 in /usr/local/lib/python3.10/dist-packages (from anyio<5,>=3.4.0->starlette<0.24.0,>=0.22.0->fastapi==0.90.1) (3.4)\n",
            "Requirement already satisfied: sniffio>=1.1 in /usr/local/lib/python3.10/dist-packages (from anyio<5,>=3.4.0->starlette<0.24.0,>=0.22.0->fastapi==0.90.1) (1.3.0)\n",
            "Installing collected packages: starlette, fastapi\n",
            "Successfully installed fastapi-0.90.1 starlette-0.23.1\n"
          ]
        }
      ]
    },
    {
      "cell_type": "code",
      "execution_count": 4,
      "metadata": {
        "id": "rWdwjgOWdVGd",
        "colab": {
          "base_uri": "https://localhost:8080/"
        },
        "outputId": "0182df35-a21a-4c95-f10d-25edad232a8d"
      },
      "outputs": [
        {
          "output_type": "stream",
          "name": "stdout",
          "text": [
            "Cloning into 'stable-diffusion-webui'...\n",
            "remote: Enumerating objects: 18962, done.\u001b[K\n",
            "remote: Counting objects: 100% (559/559), done.\u001b[K\n",
            "remote: Compressing objects: 100% (230/230), done.\u001b[K\n",
            "remote: Total 18962 (delta 349), reused 488 (delta 329), pack-reused 18403\u001b[K\n",
            "Receiving objects: 100% (18962/18962), 28.90 MiB | 13.87 MiB/s, done.\n",
            "Resolving deltas: 100% (13217/13217), done.\n"
          ]
        }
      ],
      "source": [
        "#AUTOMATIC1111のダウンロード\n",
        "!git clone https://github.com/AUTOMATIC1111/stable-diffusion-webui"
      ]
    },
    {
      "cell_type": "markdown",
      "source": [
        "# **下の３つのパターンのうち、当てはまるセルを実行して下さい！**\n",
        "# **実行する行の先頭の#は外して下さい！実行しない行の先頭には#をつけて下さい！**\n",
        "# **日本語が書いてある行は実行しないので、先頭の#は消さないで下さい！**\n",
        "# **実行する行が黒くなっていればOKです！緑になっている行は実行されません！**"
      ],
      "metadata": {
        "id": "1xrYaT98ONmp"
      }
    },
    {
      "cell_type": "markdown",
      "source": [
        "<font color= \"blue\">パターン②　colabから引っ張ってくる"
      ],
      "metadata": {
        "id": "F3bJ-Ri4lsgs"
      }
    },
    {
      "cell_type": "code",
      "source": [
        "%cd /content/stable-diffusion-webui/models/Stable-diffusion/\n",
        "from google.colab import files\n",
        "files.download('/content/drive/MyDrive/shinymix_v10.safetensors')"
      ],
      "metadata": {
        "id": "1gJbJbnalrra",
        "colab": {
          "base_uri": "https://localhost:8080/",
          "height": 52
        },
        "outputId": "fb82a007-1c17-4610-edab-14ec0c3e1eb0"
      },
      "execution_count": 14,
      "outputs": [
        {
          "output_type": "stream",
          "name": "stdout",
          "text": [
            "/content/stable-diffusion-webui/models/Stable-diffusion\n"
          ]
        },
        {
          "output_type": "display_data",
          "data": {
            "text/plain": [
              "<IPython.core.display.Javascript object>"
            ],
            "application/javascript": [
              "\n",
              "    async function download(id, filename, size) {\n",
              "      if (!google.colab.kernel.accessAllowed) {\n",
              "        return;\n",
              "      }\n",
              "      const div = document.createElement('div');\n",
              "      const label = document.createElement('label');\n",
              "      label.textContent = `Downloading \"${filename}\": `;\n",
              "      div.appendChild(label);\n",
              "      const progress = document.createElement('progress');\n",
              "      progress.max = size;\n",
              "      div.appendChild(progress);\n",
              "      document.body.appendChild(div);\n",
              "\n",
              "      const buffers = [];\n",
              "      let downloaded = 0;\n",
              "\n",
              "      const channel = await google.colab.kernel.comms.open(id);\n",
              "      // Send a message to notify the kernel that we're ready.\n",
              "      channel.send({})\n",
              "\n",
              "      for await (const message of channel.messages) {\n",
              "        // Send a message to notify the kernel that we're ready.\n",
              "        channel.send({})\n",
              "        if (message.buffers) {\n",
              "          for (const buffer of message.buffers) {\n",
              "            buffers.push(buffer);\n",
              "            downloaded += buffer.byteLength;\n",
              "            progress.value = downloaded;\n",
              "          }\n",
              "        }\n",
              "      }\n",
              "      const blob = new Blob(buffers, {type: 'application/binary'});\n",
              "      const a = document.createElement('a');\n",
              "      a.href = window.URL.createObjectURL(blob);\n",
              "      a.download = filename;\n",
              "      div.appendChild(a);\n",
              "      a.click();\n",
              "      div.remove();\n",
              "    }\n",
              "  "
            ]
          },
          "metadata": {}
        },
        {
          "output_type": "display_data",
          "data": {
            "text/plain": [
              "<IPython.core.display.Javascript object>"
            ],
            "application/javascript": [
              "download(\"download_c60f824e-11a5-42cd-ba35-2cdae37443a0\", \"shinymix_v10.safetensors\", 2132627238)"
            ]
          },
          "metadata": {}
        }
      ]
    },
    {
      "cell_type": "markdown",
      "source": [
        "<font color= \"blue\">パターン③ 　自分で自家製モデルや違うモデルを使いたい人はこちらのセルを実行！\n",
        "<font color= \"blue\">事前にモデルのアップロードが必要です！"
      ],
      "metadata": {
        "id": "X1vQcTbPpWx2"
      }
    },
    {
      "cell_type": "code",
      "source": [
        "#自分のGoogle Driveにあるモデルを、Colabのサーバーにコピー\n",
        "#「モデルまでのパス」の部分を自分がモデルを置いてる場所に変更してください。\n",
        "#例えば、マイドライブ直下(マイドライブにフォルダなどを作らず、そのままモデルを置いてる場合)なら「/content/drive/MyDrive/普段自分が使ってるモデル名.safetensors」です。\n",
        "#マイドライブの中にフォルダを作ってそこにモデルを置いてるなら「/content/drive/MyDrive/フォルダ名/普段自分が使ってるモデル名.safetensors」です。\n",
        "#フォルダの中にフォルダを作った場合は/(スラッシュ)を足して、モデルの置いてる場所まで書いて下さい。\n",
        "#こっちのセルを実行したい人は次の行の先頭の#を削除して、上のセルの先頭に#を追加して下さい。上のセルの文字が緑色、このセルの最後の行の色が黒色になればOKです。\n",
        "!cp /content/drive/MyDrive/shinymix_v10.safetensors /content/stable-diffusion-webui/models/Stable-diffusion/"
      ],
      "metadata": {
        "id": "AtRzLlBypbxg"
      },
      "execution_count": 15,
      "outputs": []
    },
    {
      "cell_type": "markdown",
      "source": [
        "以降のセルはどのモデルでも共通です！"
      ],
      "metadata": {
        "id": "c2zxqSBQt8Da"
      }
    },
    {
      "cell_type": "code",
      "source": [
        "#Extensionsの追加\n",
        "#Extensionsフォルダに移動\n",
        "%cd /content/stable-diffusion-webui/extensions\n",
        "\n",
        "#起動オプションに--remotemoeを追加\n",
        "!git clone https://github.com/nolanaatama/sd-webui-tunnels /content/stable-diffusion-webui/extensions/sd-webui-tunnels\n",
        "\n",
        "#プロンプト入力時に入力保管してくれる\n",
        "!git clone https://github.com/DominikDoom/a1111-sd-webui-tagcomplete /content/stable-diffusion-webui/extensions/a1111-sd-webui-tagcomplete\n",
        "\n",
        "#Web Images Browser(Web UIで生成した画像を確認できる拡張機能)\n",
        "!git clone https://github.com/yfszzx/stable-diffusion-webui-images-browser /content/stable-diffusion-webui/extensions/stable-diffusion-webui-images-browser\n",
        "\n",
        "#DynamicPrompts(プロンプトのランダム選択とWildCardsの使用をできるやつ)\n",
        "!git clone https://github.com/adieyal/sd-dynamic-prompts.git /content/stable-diffusion-webui/extensions/sd-dynamic-prompts\n",
        "\n",
        "#WildCardsにテキストファイルをアップロード\n",
        "#マイドライブの下にwildcardsという名前のフォルダを作って、wildcardsフォルダの中にテキストファイルを入れて下さい！\n",
        "#普段WildCards使ってなかったら次の行の先頭に#をつけたら、その行はスキップされるので、普段使わない人は#を追加して下さい！\n",
        "%mkdir /content/stable-diffusion-webui/extensions/sd-dynamic-prompts/wildcards\n",
        "!cp /content/drive/MyDrive/wildcards/*.txt /content/stable-diffusion-webui/extensions/sd-dynamic-prompts/wildcards\n",
        "\n",
        "#ControlNet（特定のポーズをさせたり色々便利なやつ）\n",
        "!git clone https://github.com/Mikubill/sd-webui-controlnet.git /content/stable-diffusion-webui/extensions/sd-webui-controlnet\n",
        "\n",
        "#ContorolNetの各モデル(depth, openpose, scribble, segment, landmarks)のDL\n",
        "#ControlNetのModelsフォルダに移動\n",
        "%cd /content/stable-diffusion-webui/extensions/sd-webui-controlnet/models\n",
        "\n",
        "#各モデルのダウンロード\n",
        "!curl -Lo control_canny-fp16.safetensors https://huggingface.co/webui/ControlNet-modules-safetensors/resolve/main/control_canny-fp16.safetensors\n",
        "!curl -Lo control_depth-fp16.safetensors https://huggingface.co/webui/ControlNet-modules-safetensors/resolve/main/control_depth-fp16.safetensors\n",
        "!curl -Lo control_openpose-fp16.safetensors https://huggingface.co/webui/ControlNet-modules-safetensors/resolve/main/control_openpose-fp16.safetensors\n",
        "!curl -Lo control_scribble-fp16.safetensors https://huggingface.co/webui/ControlNet-modules-safetensors/resolve/main/control_scribble-fp16.safetensors\n",
        "!curl -Lo control_seg-fp16.safetensors https://huggingface.co/webui/ControlNet-modules-safetensors/resolve/main/control_seg-fp16.safetensors\n",
        "!curl -Lo diff_control_sd15_landmarks_fp16.safetensors https://huggingface.co/OedoSoldier/Face-Landmark-ControlNet-diff/resolve/main/diff_control_sd15_landmarks_fp16.safetensors\n",
        "\n",
        "#再度Extensionsフォルダに移動\n",
        "%cd /content/stable-diffusion-webui/extensions\n",
        "\n",
        "#3d-open-pose-editor（ControlNetで使う棒人間をWebUI上で３Dで作れる拡張機能）SD1.5じゃControlNetに画像を送れないっぽい？\n",
        "#!git clone https://github.com/nonnonstop/sd-webui-3d-open-pose-editor.git /content/stable-diffusion-webui/extensions/sd-webui-3d-open-pose-editor\n",
        "\n",
        "#Depth map library and poser(ControlNetのdepthで使える手の修正に特化した拡張機能)のインストール\n",
        "!git clone https://github.com/jexom/sd-webui-depth-lib.git /content/stable-diffusion-webui/extensions/sd-webui-depth-lib\n",
        "\n",
        "#CutOff（プロンプト同士の影響を切れるやつ。red eyes, black hairとかにして、赤い髪になったりしない）\n",
        "!git clone https://github.com/hnmr293/sd-webui-cutoff.git /content/stable-diffusion-webui/extensions/sd-webui-cutoff\n",
        "\n",
        "#MuitiDiffusion with Tiled VAE(細かいとこまで描画するやつ。Hires.fixより早いとの噂。正しい設定を理解してないとちゃんと動かない)\n",
        "!git clone https://github.com/pkuliyi2015/multidiffusion-upscaler-for-automatic1111.git /content/stable-diffusion-webui/extensions/multidiffusion-upscaler-for-automatic1111"
      ],
      "metadata": {
        "id": "gn1StVCfdgIj"
      },
      "execution_count": null,
      "outputs": []
    },
    {
      "cell_type": "code",
      "source": [
        "# embeddingsの追加\n",
        "%cd /content/stable-diffusion-webui/embeddings\n",
        "#!curl -LO https://huggingface.co/nolanaatama/chomni/resolve/main/*\n",
        "!git clone https://huggingface.co/nolanaatama/embeddings\n",
        "!mv ./embeddings/* .\n",
        "!rm -r /content/stable-diffusion-webui/embeddings/embeddings"
      ],
      "metadata": {
        "id": "wXHJjicOg-mH"
      },
      "execution_count": null,
      "outputs": []
    },
    {
      "cell_type": "code",
      "source": [
        "#LoRAの追加\n",
        "%mkdir /content/stable-diffusion-webui/models/Lora\n",
        "%cd /content/stable-diffusion-webui/models/Lora\n",
        "#韓国顔のLoRA\n",
        "!curl -Lo kdllora.safetensors https://huggingface.co/Kanbara/doll-likeness-series/resolve/main/koreanDollLikeness_v20.safetensors\n",
        "\n",
        "#日本顔のLoRA\n",
        "!curl -Lo jdllora.safetensors https://huggingface.co/Kanbara/doll-likeness-series/resolve/main/japaneseDollLikeness_v10.safetensors\n",
        "\n",
        "#台湾顔のLoRA\n",
        "!curl -Lo tdllora.safetensors https://huggingface.co/Kanbara/doll-likeness-series/resolve/main/taiwanDollLikeness_v15.safetensors"
      ],
      "metadata": {
        "id": "pbQaQa_HhBm0"
      },
      "execution_count": null,
      "outputs": []
    },
    {
      "cell_type": "markdown",
      "source": [
        "次のセルが実際にUIを起動するセルです。\n",
        "\n",
        "<font color= \"red\">UIが固まった時とかは、一度次のセルを停止して、再度実行すると再起動されます。\n",
        "\n",
        "<font color= \"red\">一番上からやり直す必要はありません。"
      ],
      "metadata": {
        "id": "QeLzTz1Uuet3"
      }
    },
    {
      "cell_type": "code",
      "source": [
        "#WebUIの実行\n",
        "%cd /content/stable-diffusion-webui\n",
        "!COMMANDLINE_ARGS=\"--share --disable-safe-unpickle --no-half-vae --opt-sdp-no-mem-attention --enable-insecure-extension-access   --gradio-queue --remotemoe\" python launch.py"
      ],
      "metadata": {
        "id": "-s9d4XXuw8Aq",
        "colab": {
          "base_uri": "https://localhost:8080/"
        },
        "outputId": "2b7049af-ecd1-4285-c497-43c993406b4b"
      },
      "execution_count": null,
      "outputs": [
        {
          "output_type": "stream",
          "name": "stdout",
          "text": [
            "/content/stable-diffusion-webui\n",
            "Python 3.10.11 (main, Apr  5 2023, 14:15:10) [GCC 9.4.0]\n",
            "Commit hash: 5ab7f213bec2f816f9c5644becb32eb72c8ffb89\n",
            "Installing gfpgan\n",
            "Installing clip\n",
            "Installing open_clip\n",
            "Cloning Stable Diffusion into /content/stable-diffusion-webui/repositories/stable-diffusion-stability-ai...\n",
            "Cloning Taming Transformers into /content/stable-diffusion-webui/repositories/taming-transformers...\n",
            "Cloning K-diffusion into /content/stable-diffusion-webui/repositories/k-diffusion...\n",
            "Cloning CodeFormer into /content/stable-diffusion-webui/repositories/CodeFormer...\n",
            "Cloning BLIP into /content/stable-diffusion-webui/repositories/BLIP...\n",
            "Installing requirements for CodeFormer\n",
            "Installing requirements\n",
            "Launching Web UI with arguments: --share --disable-safe-unpickle --no-half-vae --opt-sdp-no-mem-attention --enable-insecure-extension-access --gradio-queue --remotemoe\n",
            "2023-05-02 11:07:40.000126: I tensorflow/core/platform/cpu_feature_guard.cc:182] This TensorFlow binary is optimized to use available CPU instructions in performance-critical operations.\n",
            "To enable the following instructions: AVX2 FMA, in other operations, rebuild TensorFlow with the appropriate compiler flags.\n",
            "2023-05-02 11:07:42.039698: W tensorflow/compiler/tf2tensorrt/utils/py_utils.cc:38] TF-TRT Warning: Could not find TensorRT\n",
            "usage: launch.py\n",
            "       [-h]\n",
            "       [--update-all-extensions]\n",
            "       [--skip-python-version-check]\n",
            "       [--skip-torch-cuda-test]\n",
            "       [--reinstall-xformers]\n",
            "       [--reinstall-torch]\n",
            "       [--update-check]\n",
            "       [--tests TESTS]\n",
            "       [--no-tests]\n",
            "       [--skip-install]\n",
            "       [--data-dir DATA_DIR]\n",
            "       [--config CONFIG]\n",
            "       [--ckpt CKPT]\n",
            "       [--ckpt-dir CKPT_DIR]\n",
            "       [--vae-dir VAE_DIR]\n",
            "       [--gfpgan-dir GFPGAN_DIR]\n",
            "       [--gfpgan-model GFPGAN_MODEL]\n",
            "       [--no-half]\n",
            "       [--no-half-vae]\n",
            "       [--no-progressbar-hiding]\n",
            "       [--max-batch-count MAX_BATCH_COUNT]\n",
            "       [--embeddings-dir EMBEDDINGS_DIR]\n",
            "       [--textual-inversion-templates-dir TEXTUAL_INVERSION_TEMPLATES_DIR]\n",
            "       [--hypernetwork-dir HYPERNETWORK_DIR]\n",
            "       [--localizations-dir LOCALIZATIONS_DIR]\n",
            "       [--allow-code]\n",
            "       [--medvram]\n",
            "       [--lowvram]\n",
            "       [--lowram]\n",
            "       [--always-batch-cond-uncond]\n",
            "       [--unload-gfpgan]\n",
            "       [--precision {full,autocast}]\n",
            "       [--upcast-sampling]\n",
            "       [--share]\n",
            "       [--ngrok NGROK]\n",
            "       [--ngrok-region NGROK_REGION]\n",
            "       [--enable-insecure-extension-access]\n",
            "       [--codeformer-models-path CODEFORMER_MODELS_PATH]\n",
            "       [--gfpgan-models-path GFPGAN_MODELS_PATH]\n",
            "       [--esrgan-models-path ESRGAN_MODELS_PATH]\n",
            "       [--bsrgan-models-path BSRGAN_MODELS_PATH]\n",
            "       [--realesrgan-models-path REALESRGAN_MODELS_PATH]\n",
            "       [--clip-models-path CLIP_MODELS_PATH]\n",
            "       [--xformers]\n",
            "       [--force-enable-xformers]\n",
            "       [--xformers-flash-attention]\n",
            "       [--deepdanbooru]\n",
            "       [--opt-split-attention]\n",
            "       [--opt-sub-quad-attention]\n",
            "       [--sub-quad-q-chunk-size SUB_QUAD_Q_CHUNK_SIZE]\n",
            "       [--sub-quad-kv-chunk-size SUB_QUAD_KV_CHUNK_SIZE]\n",
            "       [--sub-quad-chunk-threshold SUB_QUAD_CHUNK_THRESHOLD]\n",
            "       [--opt-split-attention-invokeai]\n",
            "       [--opt-split-attention-v1]\n",
            "       [--opt-sdp-attention]\n",
            "       [--opt-sdp-no-mem-attention]\n",
            "       [--disable-opt-split-attention]\n",
            "       [--disable-nan-check]\n",
            "       [--use-cpu USE_CPU [USE_CPU ...]]\n",
            "       [--listen]\n",
            "       [--port PORT]\n",
            "       [--show-negative-prompt]\n",
            "       [--ui-config-file UI_CONFIG_FILE]\n",
            "       [--hide-ui-dir-config]\n",
            "       [--freeze-settings]\n",
            "       [--ui-settings-file UI_SETTINGS_FILE]\n",
            "       [--gradio-debug]\n",
            "       [--gradio-auth GRADIO_AUTH]\n",
            "       [--gradio-auth-path GRADIO_AUTH_PATH]\n",
            "       [--gradio-img2img-tool GRADIO_IMG2IMG_TOOL]\n",
            "       [--gradio-inpaint-tool GRADIO_INPAINT_TOOL]\n",
            "       [--opt-channelslast]\n",
            "       [--styles-file STYLES_FILE]\n",
            "       [--autolaunch]\n",
            "       [--theme THEME]\n",
            "       [--use-textbox-seed]\n",
            "       [--disable-console-progressbars]\n",
            "       [--enable-console-prompts]\n",
            "       [--vae-path VAE_PATH]\n",
            "       [--disable-safe-unpickle]\n",
            "       [--api]\n",
            "       [--api-auth API_AUTH]\n",
            "       [--api-log]\n",
            "       [--nowebui]\n",
            "       [--ui-debug-mode]\n",
            "       [--device-id DEVICE_ID]\n",
            "       [--administrator]\n",
            "       [--cors-allow-origins CORS_ALLOW_ORIGINS]\n",
            "       [--cors-allow-origins-regex CORS_ALLOW_ORIGINS_REGEX]\n",
            "       [--tls-keyfile TLS_KEYFILE]\n",
            "       [--tls-certfile TLS_CERTFILE]\n",
            "       [--disable-tls-verify]\n",
            "       [--server-name SERVER_NAME]\n",
            "       [--gradio-queue]\n",
            "       [--no-gradio-queue]\n",
            "       [--skip-version-check]\n",
            "       [--no-hashing]\n",
            "       [--no-download-sd-model]\n",
            "       [--ldsr-models-path LDSR_MODELS_PATH]\n",
            "       [--lora-dir LORA_DIR]\n",
            "       [--scunet-models-path SCUNET_MODELS_PATH]\n",
            "       [--swinir-models-path SWINIR_MODELS_PATH]\n",
            "launch.py: error: unrecognized arguments: --remotemoe\n"
          ]
        }
      ]
    },
    {
      "cell_type": "markdown",
      "source": [
        "一枚一枚ダウンロードするのが面倒という人は、\n",
        "\n",
        "下のセルを実行すると作成した全ての画像がZIPファイルに圧縮されてMyDriveに保存されます。\n",
        "\n",
        "<font color= \"red\">ランタイムを切断すると画像のダウンロードは出来なくなるので、切断する前に実行して下さい！"
      ],
      "metadata": {
        "id": "zVr7BmG8vH2b"
      }
    },
    {
      "cell_type": "code",
      "source": [
        "#生成した画像をZIPに圧縮して、MyDriveに保存。outputs.zipという名前で保存される。\n",
        "%cd /content/stable-diffusion-webui/\n",
        "\n",
        "import shutil\n",
        "shutil.make_archive('outputs', format='zip', root_dir='outputs')\n",
        "\n",
        "!cp ./outputs.zip /content/drive/MyDrive/"
      ],
      "metadata": {
        "id": "oSZ4UNFJbn7Y"
      },
      "execution_count": null,
      "outputs": []
    }
  ]
}